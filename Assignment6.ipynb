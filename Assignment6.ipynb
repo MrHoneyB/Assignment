{
 "cells": [
  {
   "cell_type": "code",
   "execution_count": null,
   "id": "6396fccc",
   "metadata": {},
   "outputs": [],
   "source": [
    "'''Q2. Solve the below-given questions using at least one of the following: \n",
    "\n",
    "1. Lambda functioJ\n",
    "2. Filter functioJ\n",
    "3. Zap functioJ\n",
    "4. List Comprehension'''"
   ]
  },
  {
   "cell_type": "code",
   "execution_count": 9,
   "id": "98290108",
   "metadata": {},
   "outputs": [
    {
     "name": "stdout",
     "output_type": "stream",
     "text": [
      "Positive [1, 2, 3, 4, 5, 6]\n",
      "Negative [-1, -2, -3, -4, -5]\n"
     ]
    }
   ],
   "source": [
    "'''Sort a list of integers into positive and negative integers lists.\n",
    " [1,2,3,4,5,6,-1,-2,-3,-4,-5,0]'''\n",
    "\n",
    "l=[1,2,3,4,5,6,-1,-2,-3,-4,-5,0]\n",
    "l1=[i for i in l if i>=1]\n",
    "l2=[i for i in l if i<=-1]\n",
    "print(\"Positive\",l1)\n",
    "print(\"Negative\",l2)"
   ]
  },
  {
   "cell_type": "code",
   "execution_count": 13,
   "id": "9c193039",
   "metadata": {},
   "outputs": [
    {
     "data": {
      "text/plain": [
       "[2, 4, 6, 8, 10]"
      ]
     },
     "execution_count": 13,
     "metadata": {},
     "output_type": "execute_result"
    }
   ],
   "source": [
    "'''Filter odd numbers from the given list.\n",
    "[1,2,3,4,5,6,7,8,9,10]'''\n",
    "\n",
    "l=[1,2,3,4,5,6,7,8,9,10]\n",
    "list(filter(lambda l: l%2==0,l))\n"
   ]
  },
  {
   "cell_type": "code",
   "execution_count": 20,
   "id": "4ea7616e",
   "metadata": {},
   "outputs": [
    {
     "name": "stdout",
     "output_type": "stream",
     "text": [
      "Enter a Number:12\n"
     ]
    },
    {
     "data": {
      "text/plain": [
       "'Even'"
      ]
     },
     "execution_count": 20,
     "metadata": {},
     "output_type": "execute_result"
    }
   ],
   "source": [
    "'''Check if a given number is even'''\n",
    "\n",
    "x=int(input(\"Enter a Number:\"))\n",
    "Num=lambda x: \"Even\" if x%2==0 else \"Odd\"\n",
    "Num(x)"
   ]
  },
  {
   "cell_type": "code",
   "execution_count": 18,
   "id": "ae4ecdf8",
   "metadata": {},
   "outputs": [
    {
     "data": {
      "text/plain": [
       "[1, 8, 27, 64, 125, 216, 343, 512, 729, 1000]"
      ]
     },
     "execution_count": 18,
     "metadata": {},
     "output_type": "execute_result"
    }
   ],
   "source": [
    "'''Find the cube root of numbers from 1 to 10'''\n",
    "\n",
    "l=[1,2,3,4,5,6,7,8,9,10]\n",
    "list(map(lambda l:l**3,l))"
   ]
  },
  {
   "cell_type": "code",
   "execution_count": 19,
   "id": "d288e97f",
   "metadata": {},
   "outputs": [
    {
     "data": {
      "text/plain": [
       "[1, 4, 9, 16, 25, 36, 49, 64, 81, 100]"
      ]
     },
     "execution_count": 19,
     "metadata": {},
     "output_type": "execute_result"
    }
   ],
   "source": [
    "'''Find the squares of numbers from 1 to 10'''\n",
    "\n",
    "l=[1,2,3,4,5,6,7,8,9,10]\n",
    "list(map(lambda l:l**2,l))"
   ]
  },
  {
   "cell_type": "code",
   "execution_count": 23,
   "id": "347883dc",
   "metadata": {},
   "outputs": [
    {
     "name": "stdout",
     "output_type": "stream",
     "text": [
      "Enter a String:asf\n"
     ]
    },
    {
     "data": {
      "text/plain": [
       "'The string is not Numeric'"
      ]
     },
     "execution_count": 23,
     "metadata": {},
     "output_type": "execute_result"
    }
   ],
   "source": [
    "''' Check if the string is numeric'''\n",
    "\n",
    "s=input(\"Enter a String:\")\n",
    "string=lambda s: \"The String is Numeric\" if s.isnumeric() else \"The string is not Numeric\"\n",
    "string(s)"
   ]
  },
  {
   "cell_type": "code",
   "execution_count": 32,
   "id": "92936fc7",
   "metadata": {},
   "outputs": [
    {
     "name": "stdout",
     "output_type": "stream",
     "text": [
      "Enter the String:Nishant\n",
      "Enter the character you want to search:N\n"
     ]
    },
    {
     "data": {
      "text/plain": [
       "True"
      ]
     },
     "execution_count": 32,
     "metadata": {},
     "output_type": "execute_result"
    }
   ],
   "source": [
    "'''Check if the string starts with a particular letter'''\n",
    "\n",
    "s=input(\"Enter the String:\")\n",
    "c=input(\"Enter the character you want to search:\")\n",
    "\n",
    "search=lambda s: True if s[0]==c else False\n",
    "search(s)"
   ]
  },
  {
   "cell_type": "code",
   "execution_count": 33,
   "id": "b3dc1dc4",
   "metadata": {},
   "outputs": [
    {
     "name": "stdout",
     "output_type": "stream",
     "text": [
      "[('orange', 80), ('mango', 99), ('grapes', 1000)]\n"
     ]
    }
   ],
   "source": [
    "'''Sort a list of tuples having fruit names and their quantity. \n",
    "[(\"mango\",99),(\"orange\",80), (\"grapes\", 1000)'''\n",
    "\n",
    "fruits = [(\"mango\", 99), (\"orange\", 80), (\"grapes\", 1000)]\n",
    "fruits.sort(key=lambda x: x[1])\n",
    "print(fruits)"
   ]
  },
  {
   "cell_type": "code",
   "execution_count": null,
   "id": "78daeaa5",
   "metadata": {},
   "outputs": [],
   "source": [
    "'''Q1. You are writing code for a company. The requirement of the company is that you create a python \n",
    "function that will check whether the password entered by the user is correct or not. The function should \n",
    "take the password as input and return the string “Valid Password” if the entered password follows the \n",
    "below-given password guidelines else it should return “Invalid Password”.\n",
    "\n",
    "Note: \n",
    "1. The Password should contain at least two uppercase letters and at least two lowercase letters.\n",
    "2. The Password should contain at least a number and three special characters.\n",
    "3. The length of the password should be 10 characters long'''\n",
    "\n",
    "\n",
    "\n",
    "p=input(\"Enter the Password:\")\n",
    "s=len(p)\n",
    "cu=0\n",
    "cl=0\n",
    "cn=0\n",
    "c_sc=0\n",
    "for i in p:\n",
    "    if i.isupper()==True:\n",
    "        cu=cu+1\n",
    "    elif i.islower()==True:\n",
    "        cl=cl+1\n",
    "    elif i.isnumeric()==True:\n",
    "        cn=cn+1\n",
    "    else:\n",
    "        c_sc=c_sc+1\n",
    "\n",
    "\n",
    "if s==10 and cu>=2 and cl>=2 and cn>=1 and c_sc==3:\n",
    "    print(\"Valid Password\")\n",
    "else:\n",
    "    print(\"Invalid Password\")"
   ]
  },
  {
   "cell_type": "code",
   "execution_count": null,
   "id": "8001528c",
   "metadata": {},
   "outputs": [],
   "source": []
  },
  {
   "cell_type": "code",
   "execution_count": null,
   "id": "a6c8653c",
   "metadata": {},
   "outputs": [],
   "source": []
  }
 ],
 "metadata": {
  "kernelspec": {
   "display_name": "Python 3 (ipykernel)",
   "language": "python",
   "name": "python3"
  },
  "language_info": {
   "codemirror_mode": {
    "name": "ipython",
    "version": 3
   },
   "file_extension": ".py",
   "mimetype": "text/x-python",
   "name": "python",
   "nbconvert_exporter": "python",
   "pygments_lexer": "ipython3",
   "version": "3.11.3"
  }
 },
 "nbformat": 4,
 "nbformat_minor": 5
}
