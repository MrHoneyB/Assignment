{
 "cells": [
  {
   "cell_type": "code",
   "execution_count": 13,
   "id": "b4683b58",
   "metadata": {},
   "outputs": [
    {
     "data": {
      "text/plain": [
       "[1, 3, 5, 7, 9, 11, 13, 15, 17, 19, 21, 23, 25]"
      ]
     },
     "execution_count": 13,
     "metadata": {},
     "output_type": "execute_result"
    }
   ],
   "source": [
    "''''Q1. Which keyword is used to create a function? Create a function to return a list of odd numbers in the \n",
    "range of 1 to 25'''''\n",
    "#def keyword is used for creating a function    \n",
    "    \n",
    "def odd_return():\n",
    "    l=[]\n",
    "    for i in range(1,26):\n",
    "        if i%2!=0:\n",
    "            l.append(i)\n",
    "    \n",
    "    return l\n",
    "odd_return()"
   ]
  },
  {
   "cell_type": "code",
   "execution_count": 34,
   "id": "bf15d60b",
   "metadata": {},
   "outputs": [
    {
     "name": "stdout",
     "output_type": "stream",
     "text": [
      "(1,) <class 'tuple'>\n",
      "(1, 2) <class 'tuple'>\n",
      "(1, 2, 3) <class 'tuple'>\n"
     ]
    },
    {
     "data": {
      "text/plain": [
       "{'a': 1, 'b': 'Nishant'}"
      ]
     },
     "execution_count": 34,
     "metadata": {},
     "output_type": "execute_result"
    }
   ],
   "source": [
    "\"\"\"Q2. Why *args and **kwargs is used in some functions? Create a function each for *args and **kwargs \n",
    "to demonstrate their use\"\"\"\n",
    "\"\"\"*args- It is used for dynamic allocation of number of variable that needed to be passed during function call.The output that we get is in the form of tuple\"\"\"\n",
    "\"\"\"**kwargs is also used for the dynamic allocation but the output that we get is in the form dictonary that is in the form of key and value pairs\"\"\"\n",
    "\n",
    "def test(*args):\n",
    "    return args\n",
    "\n",
    "print(test(1),type(test(1)))\n",
    "print(test(1,2),type(test(1,2)))\n",
    "print(test(1,2,3),type(test(1,2,3)))\n",
    "\n",
    "\n",
    "def test1(**kwargs):\n",
    "    return kwargs\n",
    "\n",
    "test1(a=1,b=\"Nishant\")\n",
    "\n",
    "\n"
   ]
  },
  {
   "cell_type": "code",
   "execution_count": 38,
   "id": "5a79ae0a",
   "metadata": {},
   "outputs": [
    {
     "name": "stdout",
     "output_type": "stream",
     "text": [
      "[1, 3, 5, 7, 9, 11, 13, 15, 17, 19, 21, 23, 25, 27, 29, 31, 33, 35, 37, 39, 41, 43, 45, 47, 49, 51, 53, 55, 57, 59, 61, 63, 65, 67, 69, 71, 73, 75, 77, 79, 81, 83, 85, 87, 89, 91, 93, 95, 97, 99]\n"
     ]
    }
   ],
   "source": [
    "'''Q9. Write a code to print odd numbers from 1 to 100 using list comprehension.\n",
    "\n",
    "Note: Use a list comprehension to create a list from 1 to 100 and use another List comprehension to filter \n",
    "out odd numbers'''\n",
    "\n",
    "l=[]\n",
    "l=[i for i in range(1,101)]\n",
    "l1=[]\n",
    "l1=[i for i in l if i%2!=0]\n",
    "print(l1)"
   ]
  },
  {
   "cell_type": "code",
   "execution_count": 40,
   "id": "ca664464",
   "metadata": {},
   "outputs": [
    {
     "name": "stdout",
     "output_type": "stream",
     "text": [
      "Enter a Number:343\n",
      "The number is a pallindrome Number\n"
     ]
    }
   ],
   "source": [
    "\"\"\"Q8. Write a python program to check whether a given number is Palindrome or not using a while loop\"\"\"\n",
    "\n",
    "n=int(input(\"Enter a Number:\"))\n",
    "reverse=0\n",
    "n1=n\n",
    "while n>0:\n",
    "    reverse= (reverse*10)+ (n%10)\n",
    "    n=n//10\n",
    "    \n",
    "if(reverse==n1):\n",
    "    print(\"The number is a pallindrome Number\")\n",
    "else:\n",
    "    print(\"The Number is not a pallindrome Number\")"
   ]
  },
  {
   "cell_type": "code",
   "execution_count": 41,
   "id": "76671c6f",
   "metadata": {},
   "outputs": [
    {
     "data": {
      "text/plain": [
       "['p', 'w', 's', 'k', 'i', 'l', 'l', 's']"
      ]
     },
     "execution_count": 41,
     "metadata": {},
     "output_type": "execute_result"
    }
   ],
   "source": [
    "'''Q7. Write a List Comprehension to iterate through the given string: ‘pwskills’.\n",
    "\n",
    "Expected output: ['p', 'w', 's', 'k', 'i', 'l', 'l', 's']'''\n",
    "\n",
    "s=\"pwskills\"\n",
    "[i for i in s]"
   ]
  },
  {
   "cell_type": "code",
   "execution_count": 46,
   "id": "f5f03e54",
   "metadata": {},
   "outputs": [
    {
     "name": "stdout",
     "output_type": "stream",
     "text": [
      "0\n",
      "1\n",
      "1\n",
      "2\n",
      "3\n",
      "5\n",
      "8\n",
      "13\n",
      "21\n",
      "34\n"
     ]
    }
   ],
   "source": [
    "'''Q6. Write a python program to print the first 10 Fibonacci numbers using a while loop.'''\n",
    "\n",
    "a=0\n",
    "b=1\n",
    "i=1\n",
    "print(a)\n",
    "print(b)\n",
    "while i<9:\n",
    "    c=(a+b)\n",
    "    a=b\n",
    "    b=c\n",
    "    print(c)\n",
    "    i=i+1\n",
    "\n"
   ]
  },
  {
   "cell_type": "code",
   "execution_count": 52,
   "id": "447de7e2",
   "metadata": {},
   "outputs": [
    {
     "name": "stdout",
     "output_type": "stream",
     "text": [
      "2\n",
      "4\n",
      "6\n",
      "8\n",
      "10\n"
     ]
    }
   ],
   "source": [
    "'''Q3.  What is an iterator in python? Name the method used to initialise the iterator object and the method \n",
    "used for iteration. Use these methods to print the first five elements of the given list [2, 4, 6, 8, 10, 12, 14, \n",
    "16, 18, 20]'''\n",
    "\n",
    "'''An iterator is an object that contains a countable number of values.\n",
    "\n",
    "An iterator is an object that can be iterated upon, meaning that you can traverse through all the values.\n",
    "\n",
    "An iterator is an object which implements the iterator protocol, which consist of the methods __iter__() and __next__().'''\n",
    "\n",
    "l=[2, 4, 6, 8, 10, 12, 14, 16, 18, 20]\n",
    "l1=[]\n",
    "l1=iter(l)\n",
    "\n",
    "for i in range(0,5):\n",
    "    print(next(l1))"
   ]
  },
  {
   "cell_type": "code",
   "execution_count": 56,
   "id": "93bb2de7",
   "metadata": {},
   "outputs": [
    {
     "data": {
      "text/plain": [
       "[0, 1, 4]"
      ]
     },
     "execution_count": 56,
     "metadata": {},
     "output_type": "execute_result"
    }
   ],
   "source": [
    "'''Q4.  What is a generator function in python? Why yield keyword is used? Give an example of a generator \n",
    "function'''\n",
    "\n",
    "'''A generator function in Python is a special type of function that generates a sequence of values on-the-fly instead of returning a single value. It uses the yield keyword instead of return to pause the function's execution and yield a value to the caller. When the function is called again, it resumes from where it left off, allowing the generation of the next value in the sequence.\n",
    "\n",
    "The yield keyword is used in a generator function to define the points at which the function should pause and yield a value. When the function encounters a yield statement, it temporarily suspends its execution and returns the yielded value to the caller. The state of the function is saved, allowing it to resume from that point the next time it's called.\n",
    "\n",
    "Here's an example of a generator function that generates a sequence of numbers:'''\n",
    "\n",
    "def square(n):\n",
    "    for i in range(n):\n",
    "        yield i**2\n",
    "  \n",
    "list(square(3))\n",
    "\n"
   ]
  },
  {
   "cell_type": "code",
   "execution_count": 66,
   "id": "d82c4e70",
   "metadata": {},
   "outputs": [
    {
     "name": "stdout",
     "output_type": "stream",
     "text": [
      "2\n",
      "3\n",
      "5\n",
      "7\n",
      "11\n",
      "13\n",
      "17\n",
      "19\n",
      "23\n",
      "29\n",
      "31\n",
      "37\n",
      "41\n",
      "43\n",
      "47\n",
      "53\n",
      "59\n",
      "61\n",
      "67\n",
      "71\n"
     ]
    }
   ],
   "source": [
    "'''Q5. Create a generator function for prime numbers less than 1000. Use the next() method to print the \n",
    "first 20 prime numbers'''\n",
    "\n",
    "\n",
    "def prime():\n",
    "    for i in range(1,1000):\n",
    "        count=0\n",
    "        n=1\n",
    "        while n<=i:\n",
    "            if(i%n==0):\n",
    "                count=count+1\n",
    "            n=n+1    \n",
    "        \n",
    "        if count==2:\n",
    "            yield i\n",
    "\n",
    "a=prime()\n",
    "\n",
    "for i in range(20):\n",
    "    print(next(a))"
   ]
  },
  {
   "cell_type": "code",
   "execution_count": null,
   "id": "b6e8e2d1",
   "metadata": {},
   "outputs": [],
   "source": []
  },
  {
   "cell_type": "code",
   "execution_count": null,
   "id": "63f918bf",
   "metadata": {},
   "outputs": [],
   "source": [
    "\n"
   ]
  }
 ],
 "metadata": {
  "kernelspec": {
   "display_name": "Python 3 (ipykernel)",
   "language": "python",
   "name": "python3"
  },
  "language_info": {
   "codemirror_mode": {
    "name": "ipython",
    "version": 3
   },
   "file_extension": ".py",
   "mimetype": "text/x-python",
   "name": "python",
   "nbconvert_exporter": "python",
   "pygments_lexer": "ipython3",
   "version": "3.11.3"
  }
 },
 "nbformat": 4,
 "nbformat_minor": 5
}
