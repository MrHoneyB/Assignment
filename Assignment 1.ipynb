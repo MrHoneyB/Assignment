{
 "cells": [
  {
   "cell_type": "code",
   "execution_count": 1,
   "id": "2ab7383a-00ab-426e-a9aa-41aa115b2df3",
   "metadata": {},
   "outputs": [
    {
     "name": "stdout",
     "output_type": "stream",
     "text": [
      "apple\n",
      "banana\n",
      "orange\n",
      "mango\n",
      "1\n",
      "2\n",
      "3\n",
      "4\n",
      "5\n"
     ]
    }
   ],
   "source": [
    "'''Question 1'''\n",
    "\n",
    "'''Both for loops and while loops are used in programming to iterate over a block of code repeatedly. The choice between using a for loop or a while loop depends on the specific situation and the problem you are trying to solve. Here are some guidelines to help you decide when to use each loop:\n",
    "\n",
    "Use a for loop when:\n",
    "\n",
    "You know the number of iterations in advance: If you have a fixed number of iterations, such as iterating over elements in an array or a known range of values, a for loop is usually more convenient. The loop variable is automatically incremented or decremented, simplifying the code.\n",
    "\n",
    "Iterating over a collection: When you need to iterate over elements in a collection (such as a list or an array), a for loop is often more appropriate. It provides an easy way to access each element without worrying about the index or managing a separate loop variable.\n",
    "\n",
    "Sequential iteration: If the iteration order is sequential and you want to go through each item one by one, a for loop is generally a good choice.\n",
    "\n",
    "\n",
    "\n",
    "Use a while loop when:\n",
    "\n",
    "You don't know the number of iterations in advance: If the number of iterations is determined by a condition that may change during the loop execution, a while loop is a better fit. You can continuously check the condition before each iteration and exit the loop when the condition is no longer true.\n",
    "\n",
    "Iterating until a specific condition is met: If you need to iterate until a specific condition is met, a while loop is often more suitable. You can set up the condition at the beginning of the loop, and the loop will continue until the condition becomes false.\n",
    "\n",
    "Non-sequential iteration: If the iteration order is not sequential, or if you need to skip certain iterations based on a condition, a while loop provides more flexibility. You can control the flow of the loop based on different conditions and perform custom actions within each iteration.\n",
    "\n",
    "\n",
    "\n",
    "In general, for loops are used when you have a fixed number of iterations or when you want to iterate over a collection, while loops are used when you have a dynamic number of iterations or when you need more control over the loop's flow. However, both types of loops can be used interchangeably in\n",
    "many cases, and the choice often comes down to personal preference and the specific requirements of the problem you're solving.'''\n",
    "\n",
    "\n",
    "#for loop\n",
    "fruits = [\"apple\", \"banana\", \"orange\", \"mango\"]\n",
    "\n",
    "for fruit in fruits:\n",
    "    print(fruit)\n",
    "    \n",
    "#while loop    \n",
    "count = 1\n",
    "while count <= 5:\n",
    "    print(count)\n",
    "    count += 1"
   ]
  },
  {
   "cell_type": "code",
   "execution_count": null,
   "id": "154a71f3-773d-477c-a9ec-a9c9d6d06daf",
   "metadata": {},
   "outputs": [
    {
     "name": "stdout",
     "output_type": "stream",
     "text": [
      "Sum= 55 and Product= 3628800\n"
     ]
    }
   ],
   "source": [
    "'''Question 2'''\n",
    "'''Write a python program to print the sum and product of the first 10 natural numbers using for and while loop.'''\n",
    "   \n",
    "'''for loop'''\n",
    "\n",
    "sum=0\n",
    "prod=1\n",
    "for i in range(10):\n",
    "    sum=sum+(i+1)\n",
    "    prod=prod*(i+1)\n",
    "    \n",
    "print(\"Sum=\",sum,\"and Product=\",prod)\n",
    "\n",
    "\n",
    "'''while loop'''\n",
    "\n",
    "sum1=0\n",
    "prod1=1\n",
    "i=1\n",
    "while i<=10:\n",
    "    sum1=sum1+i\n",
    "    prod1=prod1*i\n",
    "    \n",
    "print(\"Sum=\",sum1,\"and Product=\",prod1)\n",
    "\n",
    "    \n"
   ]
  },
  {
   "cell_type": "code",
   "execution_count": 2,
   "id": "9c4dc03e-1b7c-45ee-905c-695f01069f51",
   "metadata": {},
   "outputs": [
    {
     "name": "stdin",
     "output_type": "stream",
     "text": [
      "Enter the total units 310\n"
     ]
    },
    {
     "name": "stdout",
     "output_type": "stream",
     "text": [
      "Total Electricity Bill: 2250.0\n"
     ]
    }
   ],
   "source": [
    "'''Question 3\n",
    "Create a python program to compute the electricity bill for a household.\n",
    "The per-unit charges in rupees are as follows: For the first 100 units, the user will be charged Rs. 4.5 per \n",
    "unit, for the next 100 units, the user will be charged Rs. 6 per unit, and for the next 100 units, the user will \n",
    "be charged Rs. 10 per unit, After 300 units and above the user will be charged Rs. 20 per unit'''\n",
    "\n",
    "totalElectricitybill=0\n",
    "units=int(input(\"Enter the total units\"))\n",
    "if units>300:\n",
    "    totalElectricitybill=(100*(4.5+6+10))+(units-300)*20\n",
    "elif units>200 and units<300:\n",
    "    totalElectricitybill=(100*(4.5+6))+(units-200)*10\n",
    "elif units>100 and units<200:\n",
    "    totalElectricitybill=(100*(4.5))+(units-100)*6\n",
    "else:\n",
    "    totalElectricitybill=units*4.5\n",
    "\n",
    "print(\"Total Electricity Bill:\",totalElectricitybill)"
   ]
  },
  {
   "cell_type": "code",
   "execution_count": null,
   "id": "f5e2a71b-d7e8-49fc-ab0e-961d91790c0b",
   "metadata": {},
   "outputs": [
    {
     "name": "stdout",
     "output_type": "stream",
     "text": [
      "[2, 4, 5, 6, 8, 10, 12, 14, 15, 16, 18, 20, 22, 24, 25, 26, 28, 30, 32, 34, 35, 36, 38, 40, 42, 44, 45, 46, 48, 50, 52, 54, 55, 56, 58, 60, 62, 64, 65, 66, 68, 70, 72, 74, 75, 76, 78, 80, 82, 84, 85, 86, 88, 90, 92, 94, 95, 96, 98, 100]\n"
     ]
    }
   ],
   "source": [
    "'''Question 4\n",
    "Create a list of numbers from 1 to 100. Use for loop and while loop to calculate the cube of each \n",
    "number and if the cube of that number is divisible by 4 or 5 then append that number in a list and print \n",
    "that list'''\n",
    "\n",
    "l=[]\n",
    "l1=[]\n",
    "i=1\n",
    "while i<=100:\n",
    "    l.append(i)\n",
    "    i=i+1\n",
    "    \n",
    "'''Using for loop'''    \n",
    "\n",
    "for j in l:\n",
    "    if ((j**3)%4)==0 or ((j**3)%5)==0:\n",
    "        l1.append(j)\n",
    "\n",
    "print(l1)\n",
    "\n",
    "\n",
    "'''using While Loop'''\n",
    "\n",
    "i=0\n",
    "while i<100:\n",
    "     if ((l[i]**3)%4)==0 or ((l[i]**3)%5)==0:\n",
    "        l1.append(l[i])\n",
    "        i=i+1\n",
    "\n",
    "print(l1)\n",
    "    "
   ]
  },
  {
   "cell_type": "code",
   "execution_count": null,
   "id": "b47fa13d-b59c-444e-bf04-a659bbad18a2",
   "metadata": {},
   "outputs": [],
   "source": [
    "'''Question 5'''\n",
    "'''Write a program to filter count vowels in the below-given string.\n",
    "string = \"I want to become a data scientist\"'''\n",
    "\n",
    "string = \"I want to become a data scientist\"\n",
    "count=0\n",
    "\n",
    "for i in string:\n",
    "    if i==\"a\" or i==\"A\" or i==\"e\" or i==\"E\" or i==\"i\" or i==\"I\" or i==\"o\" or i==\"O\" or i==\"u\" or i==\"U\":\n",
    "        count=count+1\n",
    "print(\"Total Numbers of vowels are:\",count)"
   ]
  },
  {
   "cell_type": "code",
   "execution_count": null,
   "id": "96db47c4-a4e2-4988-8241-e035ec8acf62",
   "metadata": {},
   "outputs": [],
   "source": []
  },
  {
   "cell_type": "code",
   "execution_count": null,
   "id": "574ec2b5-b04b-4daf-881d-900f02017b97",
   "metadata": {},
   "outputs": [],
   "source": []
  },
  {
   "cell_type": "code",
   "execution_count": null,
   "id": "d7c1b67e-6da1-40b1-a0a2-3c51d21db85e",
   "metadata": {},
   "outputs": [],
   "source": []
  },
  {
   "cell_type": "code",
   "execution_count": null,
   "id": "558f064b-0524-4c86-bb30-5391befffd21",
   "metadata": {},
   "outputs": [],
   "source": []
  }
 ],
 "metadata": {
  "kernelspec": {
   "display_name": "Python 3 (ipykernel)",
   "language": "python",
   "name": "python3"
  },
  "language_info": {
   "codemirror_mode": {
    "name": "ipython",
    "version": 3
   },
   "file_extension": ".py",
   "mimetype": "text/x-python",
   "name": "python",
   "nbconvert_exporter": "python",
   "pygments_lexer": "ipython3",
   "version": "3.10.8"
  }
 },
 "nbformat": 4,
 "nbformat_minor": 5
}
