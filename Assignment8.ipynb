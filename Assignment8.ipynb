{
 "cells": [
  {
   "cell_type": "code",
   "execution_count": 4,
   "id": "ec8e41d8-9615-4fc8-ae47-9440274390a3",
   "metadata": {},
   "outputs": [],
   "source": [
    "'''Q1. Create a vehicle class with an init method having instance variables as name_of_vehicle, max_speed \n",
    "and average_of_vehicle.'''\n",
    "\n",
    "class vehicle:\n",
    "    \n",
    "    def __init__(self,name_of_vehicle,max_speed,average_of_vehicle):\n",
    "        self.name_of_vehicle=name_of_vehicle\n",
    "        self.max_speed=max_speed\n",
    "        self.average_of_vehicle=average_of_vehicle\n",
    "    "
   ]
  },
  {
   "cell_type": "code",
   "execution_count": 26,
   "id": "791f5edd-9b14-4aef-9838-4fc838800948",
   "metadata": {},
   "outputs": [
    {
     "data": {
      "text/plain": [
       "('Innova', 6)"
      ]
     },
     "execution_count": 26,
     "metadata": {},
     "output_type": "execute_result"
    }
   ],
   "source": [
    "'''Q2.  Create a child class car from the vehicle class created in Que 1, which will inherit the vehicle class. \n",
    "Create a method named seating_capacity which takes capacity as an argument and returns the name of \n",
    "the vehicle and its seating capacity.'''\n",
    "\n",
    "\n",
    "class vehicle:\n",
    "    \n",
    "    def __init__(self,name_of_vehicle,max_speed,average_of_vehicle):\n",
    "        self.name_of_vehicle=name_of_vehicle\n",
    "        self.max_speed=max_speed\n",
    "        self.average_of_vehicle=average_of_vehicle\n",
    "\n",
    "class car(vehicle):\n",
    "    \n",
    "    def seating_capacity(self,capacity):\n",
    "        self.capacity=capacity\n",
    "        return self.name_of_vehicle, self.capacity\n",
    "        \n",
    "c=car(\"Innova\",200,13)\n",
    "c.seating_capacity(6)\n",
    "        "
   ]
  },
  {
   "cell_type": "code",
   "execution_count": 30,
   "id": "41627829-d052-4a07-9402-9a0e395c89f2",
   "metadata": {},
   "outputs": [
    {
     "name": "stdout",
     "output_type": "stream",
     "text": [
      "This is the function of class 1\n",
      "This is the function of class 2\n",
      "This is the function of class 3\n"
     ]
    }
   ],
   "source": [
    "'''Q3. What is multiple inheritance? Write a python code to demonstrate multiple inheritance.'''\n",
    "\n",
    "'''Multiple Inheritance- One class Inheriting the properties of more than one class. \n",
    "The class which is inheriting properties of other class can access the inherited class methods through the object of own class.'''\n",
    "\n",
    "\n",
    "class class1:\n",
    "    \n",
    "    def func_class1(self):\n",
    "        return \"This is the function of class 1\"\n",
    "\n",
    "class class2:\n",
    "    \n",
    "    def func_class2(self):\n",
    "        return \"This is the function of class 2\"\n",
    "    \n",
    "\n",
    "class class3(class1,class2):\n",
    "    \n",
    "    def func_class3(self):\n",
    "        return \"This is the function of class 3\"\n",
    "    \n",
    "\n",
    "c=class3()\n",
    "print(c.func_class1())\n",
    "print(c.func_class2())\n",
    "print(c.func_class3())\n",
    "\n",
    "    \n",
    "    \n",
    "   \n",
    "        \n",
    "       \n",
    "    \n"
   ]
  },
  {
   "cell_type": "code",
   "execution_count": 34,
   "id": "87930f6b-8fa9-4738-a08e-a7673f0e9371",
   "metadata": {},
   "outputs": [
    {
     "data": {
      "text/plain": [
       "100"
      ]
     },
     "execution_count": 34,
     "metadata": {},
     "output_type": "execute_result"
    }
   ],
   "source": [
    "'''Q4. What are getter and setter in python? Create a class and create a getter and a setter method in this \n",
    "class.'''\n",
    "\n",
    "'''In Python, getter and setter methods are used to control access to the attributes of a class. They allow you\n",
    "to get the value of an attribute (getter) or set the value of an attribute (setter) through defined methods, providing \n",
    "an additional layer of abstraction.'''\n",
    "\n",
    "\n",
    "class myclass:\n",
    "    \n",
    "    def get_data(self,value):\n",
    "        self.value=value\n",
    "    \n",
    "    def set_value(self):\n",
    "        return self.value\n",
    "\n",
    "c=myclass()\n",
    "c.get_data(100)\n",
    "c.set_value()"
   ]
  },
  {
   "cell_type": "code",
   "execution_count": 35,
   "id": "5031a47f-3cf2-4331-84b7-d78218b7d724",
   "metadata": {},
   "outputs": [
    {
     "data": {
      "text/plain": [
       "'The vehicle is accelerating'"
      ]
     },
     "execution_count": 35,
     "metadata": {},
     "output_type": "execute_result"
    }
   ],
   "source": [
    "'''Q5.What is method overriding in python? Write a python code to demonstrate method overriding'''\n",
    "'''Method overriding in Python allows a subclass to provide a different implementation of a method that \n",
    "is already defined in its superclass. When a method in the subclass has the same name, parameters, and return\n",
    "type as a method in the superclass, it overrides the superclass method.'''\n",
    "\n",
    "\n",
    "class vehicle:\n",
    "    \n",
    "    def accelerate(self):\n",
    "        return \"The vehicle is accelerating\"\n",
    "    \n",
    "class car(vehicle):\n",
    "    \n",
    "    def accelerate(self):\n",
    "        return \"The car is accelerating\"\n",
    "    \n",
    "c=car()\n",
    "v=vehicle()\n",
    "c.accelerate()\n",
    "v.accelerate()\n"
   ]
  },
  {
   "cell_type": "code",
   "execution_count": null,
   "id": "0770b7f7-f58d-4bf2-92c7-bcb5372f4c22",
   "metadata": {},
   "outputs": [],
   "source": []
  }
 ],
 "metadata": {
  "kernelspec": {
   "display_name": "Python 3 (ipykernel)",
   "language": "python",
   "name": "python3"
  },
  "language_info": {
   "codemirror_mode": {
    "name": "ipython",
    "version": 3
   },
   "file_extension": ".py",
   "mimetype": "text/x-python",
   "name": "python",
   "nbconvert_exporter": "python",
   "pygments_lexer": "ipython3",
   "version": "3.10.8"
  }
 },
 "nbformat": 4,
 "nbformat_minor": 5
}
