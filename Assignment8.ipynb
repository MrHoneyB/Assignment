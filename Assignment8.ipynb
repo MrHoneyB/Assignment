{
 "cells": [
  {
   "cell_type": "code",
   "execution_count": 9,
   "id": "c3d8f508-c628-47f1-8b15-a1a9c60023ed",
   "metadata": {},
   "outputs": [
    {
     "name": "stdout",
     "output_type": "stream",
     "text": [
      "This function returns Student Details\n",
      "This function returns Student Marks\n",
      "This function returns details regarding Student Assignment\n",
      "This function returns Student Details\n"
     ]
    }
   ],
   "source": [
    "'''Q1. What is Abstraction in OOps? Explain with an example'''\n",
    "\n",
    "\n",
    "\n",
    "'''Abstraction in object-oriented programming (OOP) is a fundamental principle that allows us to represent complex systems in a simplified and manageable way. It involves focusing on essential characteristics and behaviors while hiding unnecessary details.\n",
    "\n",
    "In OOP, abstraction is achieved through the use of abstract classes and interfaces. Here's how it works:\n",
    "\n",
    "Abstract Class: An abstract class is a blueprint for other classes and cannot be instantiated itself. It serves as a template that defines common attributes and behaviors for a group of related classes. An abstract class can contain both abstract and non-abstract methods. \n",
    "Abstract methods are declared but not implemented in the abstract class and must be implemented in the derived classes. By having abstract methods, an abstract class enforces the derived classes to provide specific implementations for those methods.\n",
    "\n",
    "Interface: An interface is a contract that defines a set of methods that a class must implement. Unlike abstract classes, interfaces cannot have method implementations. They only provide method signatures. A class can implement multiple interfaces, which allows for \n",
    "achieving multiple inheritances in a limited way. Interfaces provide a way to achieve a higher level of abstraction by specifying what methods a class should have without specifying how they should be implemented.\n",
    "\n",
    "Abstraction allows us to create a hierarchy of classes where the abstract classes provide a common interface and behavior that derived classes must follow. It helps in organizing and structuring the codebase, making it more modular, maintainable, and scalable. \n",
    "It also enables code reusability as derived classes can inherit and extend the abstract classes' functionality.\n",
    "\n",
    "By utilizing abstraction, developers can focus on the essential features and behaviors of a system, while hiding the implementation details. This improves code readability, reduces complexity, and enhances the overall design of the software. Additionally, \n",
    "abstraction facilitates easy modifications and updates to the system without affecting other parts of the codebase, promoting flexibility and adaptability.'''\n",
    "\n",
    "import abc\n",
    "class stud:\n",
    "    \n",
    "    @abc.abstractmethod\n",
    "    def stud_details(self):\n",
    "        pass\n",
    "    \n",
    "    @abc.abstractmethod\n",
    "    def stud_assignment(self):\n",
    "        pass\n",
    "    \n",
    "    @abc.abstractmethod\n",
    "    def stud_marks(self):\n",
    "        pass\n",
    "\n",
    "\n",
    "class Data_science:\n",
    "    \n",
    "    def stud_details(self):\n",
    "        return \"This function returns Student Details\"\n",
    "    \n",
    "    def stud_marks(self):\n",
    "        return \"This function returns Student Marks\"\n",
    "    \n",
    "class web_dev:\n",
    "    \n",
    "    def stud_details(self):\n",
    "        return \"This function returns Student Details\"\n",
    "    \n",
    "    def stud_assignment(self):\n",
    "        return \"This function returns details regarding Student Assignment\"\n",
    "    \n",
    "\n",
    "d=Data_science()\n",
    "print(d.stud_details())\n",
    "print(d.stud_marks())\n",
    "\n",
    "\n",
    "w=web_dev()\n",
    "print(w.stud_assignment())\n",
    "print(w.stud_details())"
   ]
  },
  {
   "cell_type": "code",
   "execution_count": 8,
   "id": "189c1e4e-dcab-469b-865d-e196472c53e7",
   "metadata": {},
   "outputs": [
    {
     "data": {
      "text/plain": [
       "200000"
      ]
     },
     "execution_count": 8,
     "metadata": {},
     "output_type": "execute_result"
    }
   ],
   "source": [
    "'''Q2. Differentiate between Abstraction and Encapsulation. Explain with an example.'''\n",
    "\n",
    "'''Abstraction and encapsulation are two fundamental concepts in object-oriented programming that help in building robust and modular software systems. While they are related, they serve different purposes and address different aspects of software design. Here's a differentiation between abstraction and encapsulation:\n",
    "\n",
    "Abstraction:\n",
    "\n",
    "Abstraction is a concept that focuses on representing essential features of an object while hiding the unnecessary details. It allows you to create models or representations of real-world objects or concepts in your program.\n",
    "It emphasizes the creation of abstract classes or interfaces that define the common characteristics and behavior of a set of related objects.\n",
    "Abstraction is achieved through abstract classes, interfaces, and inheritance, allowing you to define common methods and properties that subclasses must implement or override.\n",
    "The main goal of abstraction is to provide a simplified and generalized view of an object, focusing on what it does rather than how it does it.\n",
    "Encapsulation:\n",
    "\n",
    "Encapsulation is the process of bundling data and methods together into a single unit called a class. It involves the concept of information hiding, where the internal state\n",
    "and implementation details of an object are hidden from external access.\n",
    "It allows you to control access to the internal data and methods of an object, ensuring that they can only be manipulated or accessed through well-defined interfaces.\n",
    "Encapsulation provides data protection and security by preventing direct modification of object internals, enforcing the use of defined methods and properties.\n",
    "It promotes the principle of encapsulating related data and behavior within a class, making it easier to maintain and modify the code without affecting other parts of the program.\n",
    "In summary, abstraction is about creating simplified models and representations of real-world objects, focusing on what they do, while encapsulation is concerned with bundling data \n",
    "and methods together, providing controlled access and hiding implementation details. Both concepts play crucial roles in building modular, maintainable, and scalable software systems.'''\n",
    "\n",
    "\n",
    "class bank:\n",
    "    \n",
    "    def __init__(self, balance):\n",
    "        self.__balance=balance\n",
    "        \n",
    "    def deposit(self,amount):\n",
    "        self.__balance=self.__balance+amount\n",
    "    \n",
    "    def withdraw(self,amount):\n",
    "        if amount>self.__balance:\n",
    "            return False\n",
    "        else:\n",
    "            self.__balance=self.__balance-amount\n",
    "            \n",
    "    def get_balance(self):\n",
    "        return self.__balance\n",
    "    \n",
    "Nishant=bank(10000)  \n",
    "Nishant.get_balance()\n",
    "Nishant.get_balance()\n",
    "Nishant._bank__balance=200000\n",
    "Nishant.get_balance()\n"
   ]
  },
  {
   "cell_type": "code",
   "execution_count": 1,
   "id": "09ecc329-284d-49bd-af21-bbc9ed390f16",
   "metadata": {},
   "outputs": [
    {
     "data": {
      "text/plain": [
       "'The abc module in Python stands for \"Abstract Base Classes.\" It provides a mechanism for defining abstract base classes in Python. An abstract base class is a class that cannot be instantiated directly but serves as a common interface or contract for its subclasses.\\n\\nThe abc module is used to create abstract base classes by subclassing the ABC (Abstract Base Class) class provided by the module. Abstract base classes define a common interface that subclasses must implement. They can define abstract methods, which are methods without an implementation, and abstract properties, which are properties that must be implemented by subclasses.\\n\\nThe abc module is used for creating abstract base classes to enforce a certain interface or behavior in subclasses. It allows you to define a common set of methods or properties that subclasses should provide. This helps in achieving a higher level of code abstraction, modularity, and code reuse. By defining abstract base classes, you can ensure that subclasses adhere to a \\nspecific contract and provide consistent behavior.'"
      ]
     },
     "execution_count": 1,
     "metadata": {},
     "output_type": "execute_result"
    }
   ],
   "source": [
    "'''Q3. What is abc module in python? Why is it used?'''\n",
    "'''The abc module in Python stands for \"Abstract Base Classes.\" It provides a mechanism for defining abstract base classes in Python. An abstract base class is a class that cannot be instantiated directly but serves as a common interface or contract for its subclasses.\n",
    "\n",
    "The abc module is used to create abstract base classes by subclassing the ABC (Abstract Base Class) class provided by the module. Abstract base classes define a common interface that subclasses must implement. They can define abstract methods, which are methods without an implementation, and abstract properties, which are properties that must be implemented by subclasses.\n",
    "\n",
    "The abc module is used for creating abstract base classes to enforce a certain interface or behavior in subclasses. It allows you to define a common set of methods or properties that subclasses should provide. This helps in achieving a higher level of code abstraction, modularity, and code reuse. By defining abstract base classes, you can ensure that subclasses adhere to a \n",
    "specific contract and provide consistent behavior.'''"
   ]
  },
  {
   "cell_type": "code",
   "execution_count": 2,
   "id": "f49f7328-13f3-483b-8b5a-42aa19f5eecd",
   "metadata": {},
   "outputs": [
    {
     "data": {
      "text/plain": [
       "'Data abstraction can be achieved in Python through the use of abstract base classes (ABCs) and defining abstract methods. Abstract base classes provide a way to define interfaces or contracts that concrete classes must adhere to. \\nThey allow you to specify the methods and properties that should be implemented by subclasses without providing the actual implementation.'"
      ]
     },
     "execution_count": 2,
     "metadata": {},
     "output_type": "execute_result"
    }
   ],
   "source": [
    "'''Q4. How can we achieve data abstraction?'''\n",
    "\n",
    "'''Data abstraction can be achieved in Python through the use of abstract base classes (ABCs) and defining abstract methods. Abstract base classes provide a way to define interfaces or contracts that concrete classes must adhere to. \n",
    "They allow you to specify the methods and properties that should be implemented by subclasses without providing the actual implementation.'''\n"
   ]
  },
  {
   "cell_type": "code",
   "execution_count": 16,
   "id": "66ab3ea9-9541-42df-9c18-c693aadce67b",
   "metadata": {},
   "outputs": [],
   "source": [
    "'''Q5. Can we create an instance of an abstract class? Explain your answer.'''\n",
    "\n",
    "'''Yes we can create an instance of an abstract class. The examplebelow will illustrate this..'''\n",
    "\n",
    "import abc\n",
    "class bank:\n",
    "    \n",
    "    @abc.abstractmethod\n",
    "    def method(self):\n",
    "        pass\n",
    "n=bank()\n",
    "n.method()"
   ]
  },
  {
   "cell_type": "code",
   "execution_count": 13,
   "id": "adc7ffb8-9a24-4a3a-b8a7-d24a9ceb7969",
   "metadata": {},
   "outputs": [],
   "source": []
  },
  {
   "cell_type": "code",
   "execution_count": null,
   "id": "6988ae6f-aa33-4097-99ce-23a50178058b",
   "metadata": {},
   "outputs": [],
   "source": [
    "\n"
   ]
  },
  {
   "cell_type": "code",
   "execution_count": null,
   "id": "94b4520c-0aab-435e-8af3-dbc4302143fb",
   "metadata": {},
   "outputs": [],
   "source": []
  }
 ],
 "metadata": {
  "kernelspec": {
   "display_name": "Python 3 (ipykernel)",
   "language": "python",
   "name": "python3"
  },
  "language_info": {
   "codemirror_mode": {
    "name": "ipython",
    "version": 3
   },
   "file_extension": ".py",
   "mimetype": "text/x-python",
   "name": "python",
   "nbconvert_exporter": "python",
   "pygments_lexer": "ipython3",
   "version": "3.10.8"
  }
 },
 "nbformat": 4,
 "nbformat_minor": 5
}
