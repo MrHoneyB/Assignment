{
 "cells": [
  {
   "cell_type": "code",
   "execution_count": 1,
   "id": "b03ea478",
   "metadata": {},
   "outputs": [
    {
     "name": "stdout",
     "output_type": "stream",
     "text": [
      "Enter the Percentage97\n",
      "Grade A\n"
     ]
    }
   ],
   "source": [
    "'''Q1'''\n",
    "\n",
    "p=float(input(\"Enter the Percentage\"))\n",
    "if p>90:\n",
    "    print(\"Grade A\")\n",
    "elif p>80 and p<=90:\n",
    "    print(\"Grade B\")\n",
    "elif p>=60 and p<=80:\n",
    "    print(\"Grade C\")\n",
    "elif p<60:\n",
    "    print(\"Grade D\")\n",
    "    "
   ]
  },
  {
   "cell_type": "code",
   "execution_count": 2,
   "id": "91e9a3d6",
   "metadata": {},
   "outputs": [
    {
     "name": "stdout",
     "output_type": "stream",
     "text": [
      "Enter the cost price of the bike23232332\n",
      "Tax Pay 3484849.8\n"
     ]
    }
   ],
   "source": [
    "'''Q2'''\n",
    "\n",
    "p=float(input(\"Enter the cost price of the bike\"))\n",
    "Tax_pay=0\n",
    "if p>100000:\n",
    "    Tax_pay= (0.15*p)\n",
    "elif p>50000 and p<=100000:\n",
    "    Tax_pay= (0.1*p)\n",
    "elif p<=5000:\n",
    "    Tax_pay= (0.05*p)\n",
    "    \n",
    "print(\"Tax Pay\",Tax_pay)\n",
    "            "
   ]
  },
  {
   "cell_type": "code",
   "execution_count": 3,
   "id": "e5d4cca2",
   "metadata": {},
   "outputs": [
    {
     "name": "stdout",
     "output_type": "stream",
     "text": [
      "Enter the CityDelhi\n",
      "Red Fort\n"
     ]
    }
   ],
   "source": [
    "'''Q3'''\n",
    "\n",
    "c=input(\"Enter the City\")\n",
    "\n",
    "if c=='Delhi':\n",
    "    print(\"Red Fort\")\n",
    "elif c=='Agra':\n",
    "    print(\"Taj Mahal\")\n",
    "elif c=='Jaipur':\n",
    "    print(\"Jal Mahal\")"
   ]
  },
  {
   "cell_type": "code",
   "execution_count": 2,
   "id": "8d52b6f8",
   "metadata": {},
   "outputs": [
    {
     "name": "stdout",
     "output_type": "stream",
     "text": [
      "Enter a Number100\n",
      "Number of Times: 2\n"
     ]
    }
   ],
   "source": [
    "'''Q4'''\n",
    "\n",
    "n=int(input(\"Enter a Number\"))\n",
    "count=0\n",
    "while n>10:\n",
    "    n=n//3\n",
    "    if n>10:\n",
    "        count=count+1\n",
    "       \n",
    "print(\"Number of Times:\",count)\n",
    "    \n",
    "    "
   ]
  },
  {
   "cell_type": "code",
   "execution_count": 3,
   "id": "e1023fa4",
   "metadata": {},
   "outputs": [
    {
     "name": "stdout",
     "output_type": "stream",
     "text": [
      "1\n",
      "2\n",
      "3\n",
      "4\n",
      "5\n",
      "6\n",
      "7\n",
      "8\n",
      "9\n",
      "10\n"
     ]
    }
   ],
   "source": [
    "'''Q5'''\n",
    "\n",
    "'''A while loop is a control flow statement in programming that allows you to repeatedly execute a block of code as long as a certain condition is true. It is called a \"while\" loop because it continues looping while the condition remains true. Here's a detailed description of when and why you would use a while loop, along with an example:\n",
    "\n",
    "When to use a while loop:\n",
    "\n",
    "1.When you want to repeat a block of code an indefinite number of times until a specific condition is met.\n",
    "2.When the number of iterations is not known in advance.\n",
    "3.When you need to continuously perform a task until a certain condition is satisfied.'''\n",
    "\n",
    "'''Example'''\n",
    "\n",
    "count = 1\n",
    "while count <= 10:\n",
    "    print(count)\n",
    "    count += 1"
   ]
  },
  {
   "cell_type": "code",
   "execution_count": 8,
   "id": "5e528742",
   "metadata": {},
   "outputs": [
    {
     "name": "stdout",
     "output_type": "stream",
     "text": [
      "* * * * * \n",
      "* * * * * \n",
      "* * * * * \n",
      "* * * * * \n",
      "* * * * * \n",
      "1 \n",
      "1 2 \n",
      "1 2 3 \n",
      "1 2 3 4 \n",
      "1 2 3 4 5 \n",
      "    *\n",
      "   ***\n",
      "  *****\n",
      " *******\n",
      "*********\n",
      " *******\n",
      "  *****\n",
      "   ***\n",
      "    *\n"
     ]
    }
   ],
   "source": [
    "'''Q6'''\n",
    "'''Nested Loops'''\n",
    "\n",
    "size = 5\n",
    "for i in range(size):\n",
    "    for j in range(size):\n",
    "        print(\"*\", end=\" \")\n",
    "    print()\n",
    "    \n",
    "\n",
    "    \n",
    "rows = 5\n",
    "for i in range(1, rows + 1):\n",
    "    for j in range(1, i + 1):\n",
    "        print(j, end=\" \")\n",
    "    print()\n",
    "    \n",
    "    \n",
    "size = 5\n",
    "\n",
    "for i in range(size):\n",
    "    for j in range(size - i - 1):\n",
    "        print(\" \", end=\"\")\n",
    "    for k in range(2 * i + 1):\n",
    "        print(\"*\", end=\"\")\n",
    "    print()\n",
    "\n",
    "for i in range(size - 2, -1, -1):\n",
    "    for j in range(size - i - 1):\n",
    "        print(\" \", end=\"\")\n",
    "    for k in range(2 * i + 1):\n",
    "        print(\"*\", end=\"\")\n",
    "    print()\n"
   ]
  },
  {
   "cell_type": "code",
   "execution_count": 9,
   "id": "80ac56c6",
   "metadata": {},
   "outputs": [
    {
     "name": "stdout",
     "output_type": "stream",
     "text": [
      "10\n",
      "9\n",
      "8\n",
      "7\n",
      "6\n",
      "5\n",
      "4\n",
      "3\n",
      "2\n",
      "1\n"
     ]
    }
   ],
   "source": [
    "'''Q7=Q8'''\n",
    "\n",
    "n=10\n",
    "while n>0:\n",
    "    print(n)\n",
    "    n=n-1"
   ]
  },
  {
   "cell_type": "code",
   "execution_count": null,
   "id": "ed0570dc",
   "metadata": {},
   "outputs": [],
   "source": []
  }
 ],
 "metadata": {
  "kernelspec": {
   "display_name": "Python 3 (ipykernel)",
   "language": "python",
   "name": "python3"
  },
  "language_info": {
   "codemirror_mode": {
    "name": "ipython",
    "version": 3
   },
   "file_extension": ".py",
   "mimetype": "text/x-python",
   "name": "python",
   "nbconvert_exporter": "python",
   "pygments_lexer": "ipython3",
   "version": "3.11.3"
  }
 },
 "nbformat": 4,
 "nbformat_minor": 5
}
