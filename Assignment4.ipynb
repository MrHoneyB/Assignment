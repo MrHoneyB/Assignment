{
 "cells": [
  {
   "cell_type": "code",
   "execution_count": 38,
   "id": "7e17b0a2",
   "metadata": {},
   "outputs": [
    {
     "name": "stdout",
     "output_type": "stream",
     "text": [
      "[1, 2, 3, 4, 44, 55, 66, 34, 56, 78, 89, 34, 1, 2, 3, 1, 4, 34, 55, 67, 78, 89, 45, 22, 61, 34, 56]\n",
      "Product: 4134711838987085478833841242112000\n"
     ]
    }
   ],
   "source": [
    "'''Q1. Create a function which will take a list as an argument and return the product of all the numbers \n",
    "after creating a flat list.\n",
    "Use the below-given list as an argument for your function.\n",
    "\n",
    "list1 = [1,2,3,4, [44,55,66, True], False, (34,56,78,89,34), {1,2,3,3,2,1}, {1:34, \"key2\": [55, 67, 78, 89], 4: (45, \n",
    "22, 61, 34)}, [56, 'data science'], 'Machine Learning']\n",
    "Note: you must extract numeric keys and values of the dictionary also'''\n",
    "\n",
    "\n",
    "l = [1,2,3,4, [44,55,66, True], False, (34,56,78,89,34), {1,2,3,3,2,1}, {1:34, \"key2\": [55, 67, 78, 89], 4: (45, \n",
    "22, 61, 34)}, [56, 'data science'], 'Machine Learning']\n",
    "\n",
    "def Prod(l):\n",
    "    l1=[]\n",
    "    for i in l:\n",
    "        if type(i)==int:\n",
    "            l1.append(i)\n",
    "        elif type(i)==list:\n",
    "            for j in i:\n",
    "                if type(j)==int:\n",
    "                    l1.append(j)\n",
    "        elif type(i)==tuple:\n",
    "            for j in i:\n",
    "                if type(j)==int:\n",
    "                    l1.append(j)\n",
    "        elif type(i)==set:\n",
    "            for j in i:\n",
    "                if type(j)==int:\n",
    "                    l1.append(j)\n",
    "        elif type(i)==dict:\n",
    "                x=list(i.keys())\n",
    "                y=list(i.values())\n",
    "                for k in x:\n",
    "                    if type(k)==int:\n",
    "                        l1.append(k)\n",
    "                for m in y:\n",
    "                    if type(m)==int:\n",
    "                        l1.append(m)\n",
    "                    elif type(m)==list:\n",
    "                        for j in m:\n",
    "                            if type(j)==int:\n",
    "                                l1.append(j)\n",
    "                    elif type(m)==tuple:\n",
    "                        for j in m:\n",
    "                            if type(j)==int:\n",
    "                                l1.append(j)\n",
    "                \n",
    "                    \n",
    "    return l1\n",
    "flat_list=[]        \n",
    "flat_list=Prod(l)\n",
    "print(flat_list)\n",
    "prod=1\n",
    "\n",
    "for i in flat_list:\n",
    "    prod=prod*i\n",
    "\n",
    "    \n",
    "    \n",
    "print(\"Product:\",prod)"
   ]
  },
  {
   "cell_type": "code",
   "execution_count": 69,
   "id": "4addbc88",
   "metadata": {},
   "outputs": [
    {
     "name": "stdout",
     "output_type": "stream",
     "text": [
      "i want to become a data scientist\n",
      "Encripted Message: r$z$$yvxnv$z$wzz$xrvr\n"
     ]
    }
   ],
   "source": [
    "'''Q2. Write a python program for encrypting a message sent to you by your friend. The logic of encryption \n",
    "should be such that, for a the output should be z. For b, the output should be y. For c, the output should \n",
    "be x respectively. Also, the whitespace should be replaced with a dollar sign. Keep the punctuation \n",
    "marks unchanged.\n",
    "Input Sentence: I want to become a Data Scientist.\n",
    "Encrypt the above input sentence using the program you just created.\n",
    "Note: Convert the given input sentence into lowercase before encrypting. The final output should be \n",
    "lowercase'''\n",
    "\n",
    "l=[]\n",
    "string=\"I want to become a Data Scientist\"\n",
    "string_low=string.lower()\n",
    "print(string_low)\n",
    "\n",
    "for i in string_low:\n",
    "    if i=='a':\n",
    "        l.append('z')\n",
    "    elif i=='b':\n",
    "        l.append('y')\n",
    "    elif i=='c':\n",
    "        l.append('x')\n",
    "    elif i=='d':\n",
    "        l.append('w')\n",
    "    elif i=='e':\n",
    "        l.append('v')\n",
    "    elif i=='f':\n",
    "        l.append('u')\n",
    "    elif i=='g':\n",
    "        l.append('t')\n",
    "    elif i=='h':\n",
    "        l.append('s')\n",
    "    elif i=='i':\n",
    "        l.append('r')\n",
    "    elif i=='j':\n",
    "        l.append('q')\n",
    "    elif i=='k':\n",
    "        l.append('p')\n",
    "    elif i=='l':\n",
    "        l.append('o')\n",
    "    elif i=='m':\n",
    "        l.append('n')\n",
    "    elif i==' ':\n",
    "        l.append('$')\n",
    "\n",
    "Encripted=''.join(l)\n",
    "print(\"Encripted Message:\",Encripted)\n",
    "    "
   ]
  },
  {
   "cell_type": "code",
   "execution_count": null,
   "id": "85752cf6",
   "metadata": {},
   "outputs": [],
   "source": []
  }
 ],
 "metadata": {
  "kernelspec": {
   "display_name": "Python 3 (ipykernel)",
   "language": "python",
   "name": "python3"
  },
  "language_info": {
   "codemirror_mode": {
    "name": "ipython",
    "version": 3
   },
   "file_extension": ".py",
   "mimetype": "text/x-python",
   "name": "python",
   "nbconvert_exporter": "python",
   "pygments_lexer": "ipython3",
   "version": "3.11.3"
  }
 },
 "nbformat": 4,
 "nbformat_minor": 5
}
