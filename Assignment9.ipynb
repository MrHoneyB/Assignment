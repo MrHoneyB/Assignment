{
 "cells": [
  {
   "cell_type": "code",
   "execution_count": 1,
   "metadata": {},
   "outputs": [
    {
     "name": "stdout",
     "output_type": "stream",
     "text": [
      "Q1- Explain Class and Object with respect to Object-Oriented Programming. Give a suitable example.\n"
     ]
    }
   ],
   "source": [
    "print(\"Q1- Explain Class and Object with respect to Object-Oriented Programming. Give a suitable example.\")"
   ]
  },
  {
   "cell_type": "code",
   "execution_count": 2,
   "metadata": {},
   "outputs": [
    {
     "data": {
      "text/plain": [
       "\"In Object-Oriented Programming (OOP), class and object are fundamental concepts. Let's break them down:\\n\\nClass\\nA class is a blueprint for creating objects. It defines a set of attributes (variables) and methods (functions) that the created objects (instances) will have. Essentially, a class encapsulates data and functionality together.\\n\\nObject\\nAn object is an instance of a class. When a class is defined, no memory is allocated until an object of that class is created. Objects are created using the class as a blueprint, and they hold actual data.\\n\\n\""
      ]
     },
     "execution_count": 2,
     "metadata": {},
     "output_type": "execute_result"
    }
   ],
   "source": [
    "'''In Object-Oriented Programming (OOP), class and object are fundamental concepts. Let's break them down:\n",
    "\n",
    "Class\n",
    "A class is a blueprint for creating objects. It defines a set of attributes (variables) and methods (functions) that the created objects (instances) will have. Essentially, a class encapsulates data and functionality together.\n",
    "\n",
    "Object\n",
    "An object is an instance of a class. When a class is defined, no memory is allocated until an object of that class is created. Objects are created using the class as a blueprint, and they hold actual data.\n",
    "\n",
    "'''"
   ]
  },
  {
   "cell_type": "code",
   "execution_count": 3,
   "metadata": {},
   "outputs": [
    {
     "data": {
      "text/plain": [
       "'Example'"
      ]
     },
     "execution_count": 3,
     "metadata": {},
     "output_type": "execute_result"
    }
   ],
   "source": [
    "'''Example'''"
   ]
  },
  {
   "cell_type": "code",
   "execution_count": 4,
   "metadata": {},
   "outputs": [
    {
     "name": "stdout",
     "output_type": "stream",
     "text": [
      "The engine of the 2020 Toyota Corolla is now running.\n",
      "The engine of the 2019 Honda Civic is now off.\n"
     ]
    }
   ],
   "source": [
    "class Car:\n",
    "    def __init__(self, make, model, year):\n",
    "        self.make = make\n",
    "        self.model = model\n",
    "        self.year = year\n",
    "    \n",
    "    def start_engine(self):\n",
    "        print(f\"The engine of the {self.year} {self.make} {self.model} is now running.\")\n",
    "    \n",
    "    def stop_engine(self):\n",
    "        print(f\"The engine of the {self.year} {self.make} {self.model} is now off.\")\n",
    "\n",
    "# Creating objects of the Car class\n",
    "car1 = Car(\"Toyota\", \"Corolla\", 2020)\n",
    "car2 = Car(\"Honda\", \"Civic\", 2019)\n",
    "\n",
    "# Using methods of the objects\n",
    "car1.start_engine()\n",
    "car2.stop_engine()\n"
   ]
  },
  {
   "cell_type": "code",
   "execution_count": 5,
   "metadata": {},
   "outputs": [
    {
     "name": "stdout",
     "output_type": "stream",
     "text": [
      "Q2- Name the four pillars of OOPs.\n"
     ]
    }
   ],
   "source": [
    "print('Q2- Name the four pillars of OOPs.')"
   ]
  },
  {
   "cell_type": "code",
   "execution_count": 6,
   "metadata": {},
   "outputs": [
    {
     "data": {
      "text/plain": [
       "\"\\nEncapsulation:\\n\\nEncapsulation is the concept of bundling the data (attributes) and methods (functions) that operate on the data into a single unit, called a class. It restricts direct access to some of an object's components, which is a means of preventing accidental interference and misuse of the data. Access to the data is typically provided through public methods (getters and setters).\\nExample: In the Car class example above, the attributes make, model, and year are encapsulated within the Car class, and access to these attributes is controlled by the class methods.\\n\\nInheritance:\\n\\nInheritance is the mechanism by which one class (the child or derived class) can inherit the attributes and methods of another class (the parent or base class). This allows for code reusability and the creation of a hierarchical relationship between classes.\\nExample: If we have a Vehicle class with common attributes like make and year, we can create a Car class that inherits from Vehicle, and add specific attributes like model to it.\\n\\nPolymorphism:\\n\\nPolymorphism allows methods to do different things based on the object it is acting upon. It is the ability to present the same interface for different underlying data types. There are two types of polymorphism: compile-time (method overloading) and runtime (method overriding).\\n\\nAbstraction:\\n\\nAbstraction is the concept of hiding the complex implementation details and showing only the necessary features of an object. It helps in reducing programming complexity and effort. Abstraction can be achieved using abstract classes and interfaces.\\n\""
      ]
     },
     "execution_count": 6,
     "metadata": {},
     "output_type": "execute_result"
    }
   ],
   "source": [
    "'''\n",
    "Encapsulation:\n",
    "\n",
    "Encapsulation is the concept of bundling the data (attributes) and methods (functions) that operate on the data into a single unit, called a class. It restricts direct access to some of an object's components, which is a means of preventing accidental interference and misuse of the data. Access to the data is typically provided through public methods (getters and setters).\n",
    "Example: In the Car class example above, the attributes make, model, and year are encapsulated within the Car class, and access to these attributes is controlled by the class methods.\n",
    "\n",
    "Inheritance:\n",
    "\n",
    "Inheritance is the mechanism by which one class (the child or derived class) can inherit the attributes and methods of another class (the parent or base class). This allows for code reusability and the creation of a hierarchical relationship between classes.\n",
    "Example: If we have a Vehicle class with common attributes like make and year, we can create a Car class that inherits from Vehicle, and add specific attributes like model to it.\n",
    "\n",
    "Polymorphism:\n",
    "\n",
    "Polymorphism allows methods to do different things based on the object it is acting upon. It is the ability to present the same interface for different underlying data types. There are two types of polymorphism: compile-time (method overloading) and runtime (method overriding).\n",
    "\n",
    "Abstraction:\n",
    "\n",
    "Abstraction is the concept of hiding the complex implementation details and showing only the necessary features of an object. It helps in reducing programming complexity and effort. Abstraction can be achieved using abstract classes and interfaces.\n",
    "'''"
   ]
  },
  {
   "cell_type": "code",
   "execution_count": 7,
   "metadata": {},
   "outputs": [
    {
     "name": "stdout",
     "output_type": "stream",
     "text": [
      "Q3- Explain why the __init__() function is used. Give a suitable example.\n"
     ]
    }
   ],
   "source": [
    "print(\"Q3- Explain why the __init__() function is used. Give a suitable example.\")"
   ]
  },
  {
   "cell_type": "code",
   "execution_count": 8,
   "metadata": {},
   "outputs": [
    {
     "data": {
      "text/plain": [
       "'The __init__() function in Python is a special method that is automatically called when a new instance (object) of a class is created. This method is also known as the constructor. It is used to initialize the attributes of the class with specific values, ensuring that each object starts with its own set of data.\\n'"
      ]
     },
     "execution_count": 8,
     "metadata": {},
     "output_type": "execute_result"
    }
   ],
   "source": [
    "'''The __init__() function in Python is a special method that is automatically called when a new instance (object) of a class is created. This method is also known as the constructor. It is used to initialize the attributes of the class with specific values, ensuring that each object starts with its own set of data.\n",
    "'''"
   ]
  },
  {
   "cell_type": "code",
   "execution_count": 9,
   "metadata": {},
   "outputs": [
    {
     "data": {
      "text/plain": [
       "'Examples'"
      ]
     },
     "execution_count": 9,
     "metadata": {},
     "output_type": "execute_result"
    }
   ],
   "source": [
    "'''Examples'''"
   ]
  },
  {
   "cell_type": "code",
   "execution_count": 11,
   "metadata": {},
   "outputs": [
    {
     "name": "stdout",
     "output_type": "stream",
     "text": [
      "Name: Nishant, Age: 30\n",
      "Name: Honey, Age: 25\n"
     ]
    }
   ],
   "source": [
    "class Person:\n",
    "    def __init__(self, name, age):\n",
    "        self.name = name\n",
    "        self.age = age\n",
    "\n",
    "    def display_info(self):\n",
    "        print(f\"Name: {self.name}, Age: {self.age}\")\n",
    "\n",
    "# Creating objects of the Person class\n",
    "person1 = Person(\"Nishant\", 30)\n",
    "person2 = Person(\"Honey\", 25)\n",
    "\n",
    "# Using methods of the objects\n",
    "person1.display_info()  # Output: Name: Alice, Age: 30\n",
    "person2.display_info()  # Output: Name: Bob, Age: 25\n"
   ]
  },
  {
   "cell_type": "code",
   "execution_count": 12,
   "metadata": {},
   "outputs": [
    {
     "name": "stdout",
     "output_type": "stream",
     "text": [
      "Q4- Why self is used in OOPs?\n"
     ]
    }
   ],
   "source": [
    "print(\"Q4- Why self is used in OOPs?\")"
   ]
  },
  {
   "cell_type": "code",
   "execution_count": 13,
   "metadata": {},
   "outputs": [
    {
     "data": {
      "text/plain": [
       "\"In Object-Oriented Programming (OOP), self is a reference to the current instance of the class. It is used to access variables that belong to the class. Let's break down why self is essential:\\n\\nReasons for Using self:\\nInstance Reference:\\n\\nself allows access to the attributes and methods of the current object. This is important because each object can have its own attributes and methods, and self helps to differentiate between them.\\nAttribute Assignment:\\n\\nWhen defining methods within a class, self is used to assign values to the object's attributes. This ensures that the values are bound to the specific instance of the class.\\nMethod Access:\\n\\nself is used to call other methods within the same class. This allows for modular and organized code where methods can interact with each other.\\nConsistency and Clarity:\\n\\nUsing self makes it clear that a method or attribute belongs to the instance, not to the class itself or any other scope. This enhances code readability and maintainability.\""
      ]
     },
     "execution_count": 13,
     "metadata": {},
     "output_type": "execute_result"
    }
   ],
   "source": [
    "'''In Object-Oriented Programming (OOP), self is a reference to the current instance of the class. It is used to access variables that belong to the class. Let's break down why self is essential:\n",
    "\n",
    "Reasons for Using self:\n",
    "Instance Reference:\n",
    "\n",
    "self allows access to the attributes and methods of the current object. This is important because each object can have its own attributes and methods, and self helps to differentiate between them.\n",
    "Attribute Assignment:\n",
    "\n",
    "When defining methods within a class, self is used to assign values to the object's attributes. This ensures that the values are bound to the specific instance of the class.\n",
    "Method Access:\n",
    "\n",
    "self is used to call other methods within the same class. This allows for modular and organized code where methods can interact with each other.\n",
    "Consistency and Clarity:\n",
    "\n",
    "Using self makes it clear that a method or attribute belongs to the instance, not to the class itself or any other scope. This enhances code readability and maintainability.'''"
   ]
  },
  {
   "cell_type": "code",
   "execution_count": 14,
   "metadata": {},
   "outputs": [
    {
     "name": "stdout",
     "output_type": "stream",
     "text": [
      "Q5- What is inheritance. Give example of each typ of inheritance\n"
     ]
    }
   ],
   "source": [
    "print(\"Q5- What is inheritance. Give example of each typ of inheritance\")"
   ]
  },
  {
   "cell_type": "code",
   "execution_count": 15,
   "metadata": {},
   "outputs": [
    {
     "data": {
      "text/plain": [
       "'  \\nInheritance is a fundamental concept in Object-Oriented Programming (OOP) that allows one class (the child or derived class) to inherit the attributes and methods of another class (the parent or base class). This promotes code reusability and establishes a natural hierarchy between classes.\\n'"
      ]
     },
     "execution_count": 15,
     "metadata": {},
     "output_type": "execute_result"
    }
   ],
   "source": [
    "'''  \n",
    "Inheritance is a fundamental concept in Object-Oriented Programming (OOP) that allows one class (the child or derived class) to inherit the attributes and methods of another class (the parent or base class). This promotes code reusability and establishes a natural hierarchy between classes.\n",
    "'''"
   ]
  },
  {
   "cell_type": "code",
   "execution_count": 16,
   "metadata": {},
   "outputs": [
    {
     "data": {
      "text/plain": [
       "'Single Inheritance'"
      ]
     },
     "execution_count": 16,
     "metadata": {},
     "output_type": "execute_result"
    }
   ],
   "source": [
    "'''Single Inheritance'''"
   ]
  },
  {
   "cell_type": "code",
   "execution_count": 21,
   "metadata": {},
   "outputs": [
    {
     "name": "stdout",
     "output_type": "stream",
     "text": [
      "Animal speaks\n",
      "Dog barks\n"
     ]
    }
   ],
   "source": [
    "class Animal:\n",
    "    def speak(self):\n",
    "        print(\"Animal speaks\")\n",
    "\n",
    "class Dog(Animal):\n",
    "    def bark(self):\n",
    "        print(\"Dog barks\")\n",
    "\n",
    "my_dog = Dog()\n",
    "my_dog.speak()  \n",
    "my_dog.bark()   \n"
   ]
  },
  {
   "cell_type": "code",
   "execution_count": 18,
   "metadata": {},
   "outputs": [
    {
     "data": {
      "text/plain": [
       "'Multiple Inheritance'"
      ]
     },
     "execution_count": 18,
     "metadata": {},
     "output_type": "execute_result"
    }
   ],
   "source": [
    "'''Multiple Inheritance'''"
   ]
  },
  {
   "cell_type": "code",
   "execution_count": 20,
   "metadata": {},
   "outputs": [
    {
     "name": "stdout",
     "output_type": "stream",
     "text": [
      "Father's traits\n",
      "Mother's traits\n",
      "Child's traits\n"
     ]
    }
   ],
   "source": [
    "class Father:\n",
    "    def traits(self):\n",
    "        print(\"Father's traits\")\n",
    "\n",
    "class Mother:\n",
    "    def traits(self):\n",
    "        print(\"Mother's traits\")\n",
    "\n",
    "class Child(Father, Mother):\n",
    "    def traits(self):\n",
    "        Father.traits(self)\n",
    "        Mother.traits(self)\n",
    "        print(\"Child's traits\")\n",
    "\n",
    "my_child = Child()\n",
    "my_child.traits()  \n",
    "\n"
   ]
  },
  {
   "cell_type": "code",
   "execution_count": 22,
   "metadata": {},
   "outputs": [
    {
     "data": {
      "text/plain": [
       "'Multilevel Inheritance'"
      ]
     },
     "execution_count": 22,
     "metadata": {},
     "output_type": "execute_result"
    }
   ],
   "source": [
    "'''Multilevel Inheritance'''"
   ]
  },
  {
   "cell_type": "code",
   "execution_count": 23,
   "metadata": {},
   "outputs": [
    {
     "name": "stdout",
     "output_type": "stream",
     "text": [
      "Breathing\n",
      "Walking\n",
      "Talking\n"
     ]
    }
   ],
   "source": [
    "class LivingBeing:\n",
    "    def breathe(self):\n",
    "        print(\"Breathing\")\n",
    "\n",
    "class Mammal(LivingBeing):\n",
    "    def walk(self):\n",
    "        print(\"Walking\")\n",
    "\n",
    "class Human(Mammal):\n",
    "    def talk(self):\n",
    "        print(\"Talking\")\n",
    "\n",
    "person = Human()\n",
    "person.breathe()  \n",
    "person.walk()     \n",
    "person.talk()     \n"
   ]
  },
  {
   "cell_type": "code",
   "execution_count": null,
   "metadata": {},
   "outputs": [],
   "source": []
  }
 ],
 "metadata": {
  "kernelspec": {
   "display_name": "Python 3",
   "language": "python",
   "name": "python3"
  },
  "language_info": {
   "codemirror_mode": {
    "name": "ipython",
    "version": 3
   },
   "file_extension": ".py",
   "mimetype": "text/x-python",
   "name": "python",
   "nbconvert_exporter": "python",
   "pygments_lexer": "ipython3",
   "version": "3.12.4"
  }
 },
 "nbformat": 4,
 "nbformat_minor": 2
}
